{
    "cells": [
        {
            "cell_type": "markdown",
            "metadata": {
                "collapsed": true
            },
            "source": "# Predicting Seattle Collision Severity Report\nCoursera Capstone Project <br>\nby Trina Hurdman"
        },
        {
            "cell_type": "markdown",
            "metadata": {},
            "source": "## Introduction\nWhile safety features in vehicles and enhanced traffic safety measures continue to evolve, vehicle collisions continue to be an unfortunate reality. These traffic accidents have many impacts on people, property and government agencies such as emergency services and health care. <br>\n\nAccording to [data compiled by the City of Seattle](http://seattlecollisions.timganter.io/collisions/sd/2019-10-07/ed/2020-10-02/m/0/nelat/47.77256035513371/nelng/-122.21534729003908/swlat/47.43923470537306/swlng/-122.44880676269533), in the past year alone, there were over 7,000 collisions involving over 15,000 people and over 8,000 vehicles. The economic costs of these collisions are significant at over $151 million. <br>\n\nWhile collisions that result in property damage only are more prevalent, the economic cost of collisions that result in injury are much more significant. For example, in the past year, the 4,150 collisions that resulted in property damage only had an economic cost of 18.7 million US dollars while the 2,169 collisions that resulted in injury had an economic cost of 60.3 million US dollars. Serious injuries and fatalities have an even higher economic cost per collision.\n\nThe City of Seattle, the Washington State Department of Transportation and Health Care agencies all have a vested interest in predicting the severity of collisions in order to inform their planning and ultimately reduce the economic costs of collisions. The City of Seattle has made data collected around collisions since 2004 publicly available in keeping with government open data practices. While the City of Seattle classifies severity into five different categories, Coursera has used the data and divided it into two categories of injury and property damage only for prediction purposes. Determining which machine learning model to predict collision severity using the attributes in this Coursera dataset will be the subject of this report.\n"
        },
        {
            "cell_type": "code",
            "execution_count": null,
            "metadata": {},
            "outputs": [],
            "source": ""
        }
    ],
    "metadata": {
        "kernelspec": {
            "display_name": "Python 3.6",
            "language": "python",
            "name": "python3"
        },
        "language_info": {
            "codemirror_mode": {
                "name": "ipython",
                "version": 3
            },
            "file_extension": ".py",
            "mimetype": "text/x-python",
            "name": "python",
            "nbconvert_exporter": "python",
            "pygments_lexer": "ipython3",
            "version": "3.6.9"
        }
    },
    "nbformat": 4,
    "nbformat_minor": 1
}